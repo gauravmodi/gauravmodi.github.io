{
 "cells": [
  {
   "cell_type": "markdown",
   "metadata": {},
   "source": [
    "# Car Evaluation Data Set\n",
    "+ author: Gaurav Modi\n",
    "+ date: 2018-01-20 15:20\n",
    "+ Modified: 2018-01-20 21:20\n",
    "+ description: \"\" \n",
    "+ tags: sklearn, prediction, classification"
   ]
  },
  {
   "cell_type": "code",
   "execution_count": 178,
   "metadata": {
    "collapsed": true
   },
   "outputs": [],
   "source": [
    "import pandas as pd\n",
    "import numpy as np\n",
    "import matplotlib.pyplot as plt\n",
    "import seaborn as sns\n",
    "from sklearn.model_selection import train_test_split\n",
    "from sklearn import tree\n",
    "from sklearn.preprocessing import LabelEncoder\n",
    "from sklearn import metrics\n",
    "from sklearn.grid_search import GridSearchCV\n",
    "from sklearn.neighbors import KNeighborsClassifier\n",
    "from sklearn.cross_validation import cross_val_score\n",
    "from sklearn.metrics import classification_report\n",
    "from sklearn.metrics import confusion_matrix\n",
    "from sklearn.metrics import accuracy_score\n",
    "from sklearn.metrics import roc_curve\n",
    "from sklearn import metrics\n",
    "from sklearn.linear_model import LogisticRegression\n",
    "import graphviz\n",
    "import seaborn as sns\n",
    "%matplotlib inline"
   ]
  },
  {
   "cell_type": "markdown",
   "metadata": {},
   "source": [
    "5. Number of Instances: 1728\n",
    "   (instances completely cover the attribute space)\n",
    "\n",
    "6. Number of Attributes: 6\n",
    "\n",
    "7. Attribute Values:\n",
    "buying       v-high, high, med, low\n",
    "   \n",
    "   maint        v-high, high, med, low\n",
    "   \n",
    "   doors        2, 3, 4, 5-more\n",
    "   \n",
    "   persons      2, 4, more\n",
    "   \n",
    "   lug_boot     small, med, big\n",
    "   \n",
    "   safety       low, med, high"
   ]
  },
  {
   "cell_type": "code",
   "execution_count": 181,
   "metadata": {
    "collapsed": true
   },
   "outputs": [],
   "source": [
    "def read_data(dtype='nominal'):\n",
    "    df = pd.read_csv(\"data/car.data.csv\", header=None,\n",
    "                     names=['buying_price','maintain_price','doors',\n",
    "                            'passenger_capacity','boot_size',\n",
    "                            'safety_rating', 'evaluation'],\n",
    "                     index_col=False)\n",
    "    if dtype == 'numeric':\n",
    "        df.doors = np.where(df.doors == '5more', 5, df.doors).astype(int)\n",
    "        df.passenger_capacity = np.where(df.passenger_capacity == 'more', 5, df.passenger_capacity).astype(int)\n",
    "    return df\n",
    "\n",
    "def get_Xy(dtype='nominal'):\n",
    "    df = read_data(dtype)\n",
    "    return df.iloc[:, :-1], df.evaluation\n",
    "\n",
    "def get_test_train(dtype='nominal', test_size=0.3, seed=42):\n",
    "    X, y = get_Xy(dtype)\n",
    "    return train_test_split(X, y, test_size=test_size, random_state=seed)\n",
    "    #return X_train, X_test, y_train, y_test\n",
    "    \n",
    "def reverse_encode(y):\n",
    "    label_encoding_dict = {2:'unacc', 0: 'acc', 1:'good', 3: 'vgood'}    \n",
    "    return y.map(label_encoding_dict)"
   ]
  },
  {
   "cell_type": "code",
   "execution_count": 182,
   "metadata": {
    "collapsed": true
   },
   "outputs": [],
   "source": [
    "df = read_data()"
   ]
  },
  {
   "cell_type": "code",
   "execution_count": 183,
   "metadata": {},
   "outputs": [
    {
     "data": {
      "text/html": [
       "<div>\n",
       "<style>\n",
       "    .dataframe thead tr:only-child th {\n",
       "        text-align: right;\n",
       "    }\n",
       "\n",
       "    .dataframe thead th {\n",
       "        text-align: left;\n",
       "    }\n",
       "\n",
       "    .dataframe tbody tr th {\n",
       "        vertical-align: top;\n",
       "    }\n",
       "</style>\n",
       "<table border=\"1\" class=\"dataframe\">\n",
       "  <thead>\n",
       "    <tr style=\"text-align: right;\">\n",
       "      <th></th>\n",
       "      <th>buying_price</th>\n",
       "      <th>maintain_price</th>\n",
       "      <th>doors</th>\n",
       "      <th>passenger_capacity</th>\n",
       "      <th>boot_size</th>\n",
       "      <th>safety_rating</th>\n",
       "      <th>evaluation</th>\n",
       "    </tr>\n",
       "  </thead>\n",
       "  <tbody>\n",
       "    <tr>\n",
       "      <th>0</th>\n",
       "      <td>vhigh</td>\n",
       "      <td>vhigh</td>\n",
       "      <td>2</td>\n",
       "      <td>2</td>\n",
       "      <td>small</td>\n",
       "      <td>low</td>\n",
       "      <td>unacc</td>\n",
       "    </tr>\n",
       "    <tr>\n",
       "      <th>1</th>\n",
       "      <td>vhigh</td>\n",
       "      <td>vhigh</td>\n",
       "      <td>2</td>\n",
       "      <td>2</td>\n",
       "      <td>small</td>\n",
       "      <td>med</td>\n",
       "      <td>unacc</td>\n",
       "    </tr>\n",
       "    <tr>\n",
       "      <th>2</th>\n",
       "      <td>vhigh</td>\n",
       "      <td>vhigh</td>\n",
       "      <td>2</td>\n",
       "      <td>2</td>\n",
       "      <td>small</td>\n",
       "      <td>high</td>\n",
       "      <td>unacc</td>\n",
       "    </tr>\n",
       "    <tr>\n",
       "      <th>3</th>\n",
       "      <td>vhigh</td>\n",
       "      <td>vhigh</td>\n",
       "      <td>2</td>\n",
       "      <td>2</td>\n",
       "      <td>med</td>\n",
       "      <td>low</td>\n",
       "      <td>unacc</td>\n",
       "    </tr>\n",
       "    <tr>\n",
       "      <th>4</th>\n",
       "      <td>vhigh</td>\n",
       "      <td>vhigh</td>\n",
       "      <td>2</td>\n",
       "      <td>2</td>\n",
       "      <td>med</td>\n",
       "      <td>med</td>\n",
       "      <td>unacc</td>\n",
       "    </tr>\n",
       "  </tbody>\n",
       "</table>\n",
       "</div>"
      ],
      "text/plain": [
       "  buying_price maintain_price doors passenger_capacity boot_size  \\\n",
       "0        vhigh          vhigh     2                  2     small   \n",
       "1        vhigh          vhigh     2                  2     small   \n",
       "2        vhigh          vhigh     2                  2     small   \n",
       "3        vhigh          vhigh     2                  2       med   \n",
       "4        vhigh          vhigh     2                  2       med   \n",
       "\n",
       "  safety_rating evaluation  \n",
       "0           low      unacc  \n",
       "1           med      unacc  \n",
       "2          high      unacc  \n",
       "3           low      unacc  \n",
       "4           med      unacc  "
      ]
     },
     "execution_count": 183,
     "metadata": {},
     "output_type": "execute_result"
    }
   ],
   "source": [
    "df.head()"
   ]
  },
  {
   "cell_type": "markdown",
   "metadata": {},
   "source": [
    "### Checking for Missing Values"
   ]
  },
  {
   "cell_type": "code",
   "execution_count": 184,
   "metadata": {},
   "outputs": [
    {
     "data": {
      "text/plain": [
       "3        432\n",
       "5more    432\n",
       "4        432\n",
       "2        432\n",
       "Name: doors, dtype: int64"
      ]
     },
     "execution_count": 184,
     "metadata": {},
     "output_type": "execute_result"
    }
   ],
   "source": [
    "df.doors.value_counts()"
   ]
  },
  {
   "cell_type": "code",
   "execution_count": 185,
   "metadata": {},
   "outputs": [
    {
     "data": {
      "text/plain": [
       "more    576\n",
       "4       576\n",
       "2       576\n",
       "Name: passenger_capacity, dtype: int64"
      ]
     },
     "execution_count": 185,
     "metadata": {},
     "output_type": "execute_result"
    }
   ],
   "source": [
    "df.passenger_capacity.value_counts()"
   ]
  },
  {
   "cell_type": "code",
   "execution_count": 186,
   "metadata": {
    "scrolled": true
   },
   "outputs": [
    {
     "name": "stdout",
     "output_type": "stream",
     "text": [
      "<class 'pandas.core.frame.DataFrame'>\n",
      "RangeIndex: 1728 entries, 0 to 1727\n",
      "Data columns (total 7 columns):\n",
      "buying_price          1728 non-null object\n",
      "maintain_price        1728 non-null object\n",
      "doors                 1728 non-null object\n",
      "passenger_capacity    1728 non-null object\n",
      "boot_size             1728 non-null object\n",
      "safety_rating         1728 non-null object\n",
      "evaluation            1728 non-null object\n",
      "dtypes: object(7)\n",
      "memory usage: 94.6+ KB\n"
     ]
    }
   ],
   "source": [
    "df.info()"
   ]
  },
  {
   "cell_type": "code",
   "execution_count": 187,
   "metadata": {},
   "outputs": [
    {
     "data": {
      "text/plain": [
       "buying_price          False\n",
       "maintain_price        False\n",
       "doors                 False\n",
       "passenger_capacity    False\n",
       "boot_size             False\n",
       "safety_rating         False\n",
       "evaluation            False\n",
       "dtype: bool"
      ]
     },
     "execution_count": 187,
     "metadata": {},
     "output_type": "execute_result"
    }
   ],
   "source": [
    "df.isnull().any()"
   ]
  },
  {
   "cell_type": "markdown",
   "metadata": {},
   "source": [
    "#### No missing or null values found in any of the attributes."
   ]
  },
  {
   "cell_type": "code",
   "execution_count": 188,
   "metadata": {
    "scrolled": true
   },
   "outputs": [
    {
     "data": {
      "text/plain": [
       "buying_price          object\n",
       "maintain_price        object\n",
       "doors                 object\n",
       "passenger_capacity    object\n",
       "boot_size             object\n",
       "safety_rating         object\n",
       "evaluation            object\n",
       "dtype: object"
      ]
     },
     "execution_count": 188,
     "metadata": {},
     "output_type": "execute_result"
    }
   ],
   "source": [
    "df.dtypes"
   ]
  },
  {
   "cell_type": "markdown",
   "metadata": {},
   "source": [
    "### Response Variable distribution"
   ]
  },
  {
   "cell_type": "code",
   "execution_count": 189,
   "metadata": {},
   "outputs": [
    {
     "data": {
      "text/plain": [
       "<matplotlib.axes._subplots.AxesSubplot at 0xd8dff98>"
      ]
     },
     "execution_count": 189,
     "metadata": {},
     "output_type": "execute_result"
    },
    {
     "data": {
      "image/png": "[encoded data removed]",
      "text/plain": [
       "<matplotlib.figure.Figure at 0xee6b208>"
      ]
     },
     "metadata": {},
     "output_type": "display_data"
    }
   ],
   "source": [
    "df_orig = read_data()\n",
    "sns.set_context(\"notebook\", font_scale=1.5, rc={\"lines.linewidth\": 2.5})\n",
    "sns.countplot(x=\"evaluation\", data=df_orig)"
   ]
  },
  {
   "cell_type": "markdown",
   "metadata": {},
   "source": [
    "Data is skewed and we have very few samples of 'vgood' and 'good' evaluation. Accuaracy will not be a good indicator of how well our model is working. <p> Therefore, to measure performance of different models, I will use f-measure to compare different model performance.</p>"
   ]
  },
  {
   "cell_type": "markdown",
   "metadata": {},
   "source": [
    "## 1. Decision Tree"
   ]
  },
  {
   "cell_type": "markdown",
   "metadata": {},
   "source": [
    "### Splitting Test and train data in 70-30 ratio."
   ]
  },
  {
   "cell_type": "markdown",
   "metadata": {},
   "source": [
    "As our data is skewed, we should stratified sampling. <p> train_test_split() function of sci-kit learn do stratified splitting by default."
   ]
  },
  {
   "cell_type": "code",
   "execution_count": 190,
   "metadata": {
    "collapsed": true
   },
   "outputs": [],
   "source": [
    "df = read_data()\n",
    "encoder_dict = dict()\n",
    "for column in df.columns:\n",
    "    if df[column].dtype == type(object):\n",
    "        encoder_dict[column] = LabelEncoder()\n",
    "        le = LabelEncoder()\n",
    "        df[column] = le.fit_transform(df[column])\n",
    "        \n",
    "X, y = df.iloc[:, :-1], df.evaluation\n",
    "X_train, X_test, y_train, y_test = train_test_split(X, y, test_size=0.3, random_state=42)"
   ]
  },
  {
   "cell_type": "markdown",
   "metadata": {},
   "source": [
    "### Grid Search for finding optimal hyper parameters"
   ]
  },
  {
   "cell_type": "code",
   "execution_count": 191,
   "metadata": {
    "scrolled": false
   },
   "outputs": [
    {
     "name": "stdout",
     "output_type": "stream",
     "text": [
      "Optimizing parameters for accuracy\n",
      "{'splitter': 'best', 'criterion': 'entropy', 'max_depth': 10}\n",
      "0.983\n"
     ]
    }
   ],
   "source": [
    "criterion = ['gini','entropy']\n",
    "splitter = ['best','random']\n",
    "max_depth = list(range(1,50))\n",
    "min_sample_lead = list(range(1, 50))\n",
    "\n",
    "param_grid = dict(max_depth=max_depth, criterion=criterion, splitter = splitter)\n",
    "scores = ['accuracy']\n",
    "dt = tree.DecisionTreeClassifier()\n",
    "for score in scores:\n",
    "    grid_dt=GridSearchCV(dt, param_grid, cv=10,scoring=score, n_jobs= 4)\n",
    "    print(\"Optimizing parameters for %s\" % score)\n",
    "    grid_dt.fit(X_train,y_train)\n",
    "    print(grid_dt.best_params_)\n",
    "    print(np.round(grid_dt.best_score_,3))"
   ]
  },
  {
   "cell_type": "code",
   "execution_count": 192,
   "metadata": {
    "collapsed": true
   },
   "outputs": [],
   "source": [
    "dt = tree.DecisionTreeClassifier(splitter='best', criterion='entropy', max_depth=10)\n",
    "dt = dt.fit(X_train, y_train)"
   ]
  },
  {
   "cell_type": "code",
   "execution_count": 194,
   "metadata": {
    "scrolled": true
   },
   "outputs": [
    {
     "name": "stdout",
     "output_type": "stream",
     "text": [
      "             precision    recall  f1-score   support\n",
      "\n",
      "      unacc       0.92      0.93      0.92       118\n",
      "        acc       0.71      0.89      0.79        19\n",
      "       good       0.99      0.98      0.99       358\n",
      "      vgood       0.90      0.79      0.84        24\n",
      "\n",
      "avg / total       0.96      0.96      0.96       519\n",
      "\n"
     ]
    }
   ],
   "source": [
    "dt = tree.DecisionTreeClassifier()\n",
    "dt.fit(X_train, y_train)\n",
    "y_pred = dt.predict(X_test)\n",
    "\n",
    "print classification_report(y_test, y_pred, target_names=['unacc', 'acc', 'good', 'vgood'])"
   ]
  },
  {
   "cell_type": "code",
   "execution_count": 195,
   "metadata": {},
   "outputs": [
    {
     "name": "stdout",
     "output_type": "stream",
     "text": [
      "Accuracy: 0.959537572254\n",
      "\n",
      "\n",
      "Confusion Matrix\n"
     ]
    },
    {
     "data": {
      "text/html": [
       "<div>\n",
       "<style>\n",
       "    .dataframe thead tr:only-child th {\n",
       "        text-align: right;\n",
       "    }\n",
       "\n",
       "    .dataframe thead th {\n",
       "        text-align: left;\n",
       "    }\n",
       "\n",
       "    .dataframe tbody tr th {\n",
       "        vertical-align: top;\n",
       "    }\n",
       "</style>\n",
       "<table border=\"1\" class=\"dataframe\">\n",
       "  <thead>\n",
       "    <tr style=\"text-align: right;\">\n",
       "      <th></th>\n",
       "      <th>Predicted acc</th>\n",
       "      <th>Predicted good</th>\n",
       "      <th>Predicted unacc</th>\n",
       "      <th>Predicted vgood</th>\n",
       "    </tr>\n",
       "  </thead>\n",
       "  <tbody>\n",
       "    <tr>\n",
       "      <th>Actual acc</th>\n",
       "      <td>110</td>\n",
       "      <td>5</td>\n",
       "      <td>2</td>\n",
       "      <td>1</td>\n",
       "    </tr>\n",
       "    <tr>\n",
       "      <th>Actual good</th>\n",
       "      <td>1</td>\n",
       "      <td>17</td>\n",
       "      <td>0</td>\n",
       "      <td>1</td>\n",
       "    </tr>\n",
       "    <tr>\n",
       "      <th>Actual unacc</th>\n",
       "      <td>6</td>\n",
       "      <td>0</td>\n",
       "      <td>352</td>\n",
       "      <td>0</td>\n",
       "    </tr>\n",
       "    <tr>\n",
       "      <th>Actual vgood</th>\n",
       "      <td>3</td>\n",
       "      <td>2</td>\n",
       "      <td>0</td>\n",
       "      <td>19</td>\n",
       "    </tr>\n",
       "  </tbody>\n",
       "</table>\n",
       "</div>"
      ],
      "text/plain": [
       "              Predicted acc  Predicted good  Predicted unacc  Predicted vgood\n",
       "Actual acc              110               5                2                1\n",
       "Actual good               1              17                0                1\n",
       "Actual unacc              6               0              352                0\n",
       "Actual vgood              3               2                0               19"
      ]
     },
     "execution_count": 195,
     "metadata": {},
     "output_type": "execute_result"
    }
   ],
   "source": [
    "print 'Accuracy: {0}'.format(accuracy_score(y_true=y_test, y_pred=y_pred))\n",
    "print '\\n'\n",
    "print 'Confusion Matrix'\n",
    "\n",
    "c_m = confusion_matrix(y_true=y_test, y_pred=y_pred)\n",
    "conf_matrix = pd.DataFrame(c_m, \n",
    "                           columns=[ 'Predicted acc', 'Predicted good', 'Predicted unacc', 'Predicted vgood'],\n",
    "                           index=['Actual acc', 'Actual good', 'Actual unacc', 'Actual vgood'])\n",
    "conf_matrix"
   ]
  },
  {
   "cell_type": "markdown",
   "metadata": {},
   "source": [
    "## 2. k-NN Classifier"
   ]
  },
  {
   "cell_type": "code",
   "execution_count": 196,
   "metadata": {},
   "outputs": [
    {
     "name": "stdout",
     "output_type": "stream",
     "text": [
      "The optimal value for k for weight='uniform' is: 5 with error rate of: 0.0927\n",
      "The optimal value for k for weight='distance' is: 7 with error rate of: 0.0902\n"
     ]
    },
    {
     "data": {
      "image/png": "[encoded data removed]",
      "text/plain": [
       "<matplotlib.figure.Figure at 0xd9316a0>"
      ]
     },
     "metadata": {},
     "output_type": "display_data"
    }
   ],
   "source": [
    "cv_scores = list()\n",
    "\n",
    "neighbors = list(range(1,50))\n",
    "plt.figure(figsize=(10,5))\n",
    "\n",
    "i = 1\n",
    "for weights in ['uniform', 'distance']:\n",
    "    cv_scores = list()\n",
    "    for k in neighbors:\n",
    "        knn= KNeighborsClassifier(n_neighbors=k, weights=weights)\n",
    "    #Cross Validation\n",
    "        scores = cross_val_score(knn, X_train, y_train, cv=10, scoring='accuracy')\n",
    "        cv_scores.append(scores.mean())\n",
    "        \n",
    "#Plotting the Error rate        \n",
    "    error = [1 - x for x in cv_scores]\n",
    "    k_optimal = neighbors[error.index(min(error))]\n",
    "    print \"The optimal value for k for weight='{0}' is: {1} with error rate of: {2}\".format(weights, k_optimal, round(min(error),4))\n",
    "\n",
    "    plt.subplot(1,2,i)\n",
    "    plt.tight_layout()\n",
    "    plt.xlabel('Number of Neighbors K')\n",
    "    plt.ylabel('Misclassification Error')\n",
    "    plt.title(\"Weight criteria: '%s')\"\n",
    "              % (weights))\n",
    "    plt.subplots_adjust(left=1.5, bottom=0.5, right=3.5, top=1.5)\n",
    "    plt.plot(neighbors, error)\n",
    "    i = i + 1\n",
    "plt.show()  "
   ]
  },
  {
   "cell_type": "markdown",
   "metadata": {},
   "source": [
    "### - The optimal value for k for weight='uniform' is: 5 with error rate of: 0.0927\n",
    "### - The optimal value for k for weight='distance' is: 7 with error rate of: 0.0902"
   ]
  },
  {
   "cell_type": "code",
   "execution_count": 197,
   "metadata": {},
   "outputs": [
    {
     "name": "stdout",
     "output_type": "stream",
     "text": [
      "             precision    recall  f1-score   support\n",
      "\n",
      "      unacc       0.91      0.77      0.83       118\n",
      "        acc       0.93      0.74      0.82        19\n",
      "       good       0.93      0.99      0.96       358\n",
      "      vgood       0.91      0.88      0.89        24\n",
      "\n",
      "avg / total       0.93      0.93      0.92       519\n",
      "\n"
     ]
    }
   ],
   "source": [
    "knn= KNeighborsClassifier(n_neighbors=7, weights='distance')\n",
    "knn.fit(X_train, y_train)\n",
    "y_pred = knn.predict(X_test)\n",
    "\n",
    "print classification_report(y_test, y_pred, target_names=['unacc', 'acc', 'good', 'vgood'])"
   ]
  },
  {
   "cell_type": "code",
   "execution_count": 203,
   "metadata": {},
   "outputs": [
    {
     "name": "stdout",
     "output_type": "stream",
     "text": [
      "Accuracy: 0.666666666667\n",
      "\n",
      "\n",
      "Confusion Matrix\n"
     ]
    },
    {
     "data": {
      "text/html": [
       "<div>\n",
       "<style>\n",
       "    .dataframe thead tr:only-child th {\n",
       "        text-align: right;\n",
       "    }\n",
       "\n",
       "    .dataframe thead th {\n",
       "        text-align: left;\n",
       "    }\n",
       "\n",
       "    .dataframe tbody tr th {\n",
       "        vertical-align: top;\n",
       "    }\n",
       "</style>\n",
       "<table border=\"1\" class=\"dataframe\">\n",
       "  <thead>\n",
       "    <tr style=\"text-align: right;\">\n",
       "      <th></th>\n",
       "      <th>Predicted acc</th>\n",
       "      <th>Predicted good</th>\n",
       "      <th>Predicted unacc</th>\n",
       "      <th>Predicted vgood</th>\n",
       "    </tr>\n",
       "  </thead>\n",
       "  <tbody>\n",
       "    <tr>\n",
       "      <th>Actual acc</th>\n",
       "      <td>22</td>\n",
       "      <td>0</td>\n",
       "      <td>96</td>\n",
       "      <td>0</td>\n",
       "    </tr>\n",
       "    <tr>\n",
       "      <th>Actual good</th>\n",
       "      <td>2</td>\n",
       "      <td>0</td>\n",
       "      <td>17</td>\n",
       "      <td>0</td>\n",
       "    </tr>\n",
       "    <tr>\n",
       "      <th>Actual unacc</th>\n",
       "      <td>34</td>\n",
       "      <td>0</td>\n",
       "      <td>324</td>\n",
       "      <td>0</td>\n",
       "    </tr>\n",
       "    <tr>\n",
       "      <th>Actual vgood</th>\n",
       "      <td>14</td>\n",
       "      <td>0</td>\n",
       "      <td>10</td>\n",
       "      <td>0</td>\n",
       "    </tr>\n",
       "  </tbody>\n",
       "</table>\n",
       "</div>"
      ],
      "text/plain": [
       "              Predicted acc  Predicted good  Predicted unacc  Predicted vgood\n",
       "Actual acc               22               0               96                0\n",
       "Actual good               2               0               17                0\n",
       "Actual unacc             34               0              324                0\n",
       "Actual vgood             14               0               10                0"
      ]
     },
     "execution_count": 203,
     "metadata": {},
     "output_type": "execute_result"
    }
   ],
   "source": [
    "print 'Accuracy: {0}'.format(accuracy_score(y_true=y_test, y_pred=y_pred))\n",
    "print '\\n'\n",
    "print 'Confusion Matrix'\n",
    "\n",
    "c_m = confusion_matrix(y_true=y_test, y_pred=y_pred)\n",
    "conf_matrix = pd.DataFrame(c_m, \n",
    "                           columns=[ 'Predicted acc', 'Predicted good', 'Predicted unacc', 'Predicted vgood'],\n",
    "                           index=['Actual acc', 'Actual good', 'Actual unacc', 'Actual vgood'])\n",
    "conf_matrix"
   ]
  },
  {
   "cell_type": "markdown",
   "metadata": {},
   "source": [
    "## 3. Logistic Regression"
   ]
  },
  {
   "cell_type": "code",
   "execution_count": 199,
   "metadata": {
    "collapsed": true
   },
   "outputs": [],
   "source": [
    "logit = LogisticRegression(multi_class='ovr')\n",
    "logit.fit(X_train, y_train)\n",
    "y_pred = logit.predict(X_test)"
   ]
  },
  {
   "cell_type": "code",
   "execution_count": 200,
   "metadata": {
    "scrolled": false
   },
   "outputs": [
    {
     "name": "stdout",
     "output_type": "stream",
     "text": [
      "             precision    recall  f1-score   support\n",
      "\n",
      "      unacc       0.31      0.19      0.23       118\n",
      "        acc       0.00      0.00      0.00        19\n",
      "       good       0.72      0.91      0.80       358\n",
      "      vgood       0.00      0.00      0.00        24\n",
      "\n",
      "avg / total       0.57      0.67      0.61       519\n",
      "\n"
     ]
    }
   ],
   "source": [
    "print classification_report(y_test, y_pred, target_names=['unacc', 'acc', 'good', 'vgood'])"
   ]
  },
  {
   "cell_type": "code",
   "execution_count": 201,
   "metadata": {},
   "outputs": [
    {
     "name": "stdout",
     "output_type": "stream",
     "text": [
      "Accuracy: 0.666666666667\n",
      "\n",
      "\n",
      "Confusion Matrix\n"
     ]
    },
    {
     "data": {
      "text/html": [
       "<div>\n",
       "<style>\n",
       "    .dataframe thead tr:only-child th {\n",
       "        text-align: right;\n",
       "    }\n",
       "\n",
       "    .dataframe thead th {\n",
       "        text-align: left;\n",
       "    }\n",
       "\n",
       "    .dataframe tbody tr th {\n",
       "        vertical-align: top;\n",
       "    }\n",
       "</style>\n",
       "<table border=\"1\" class=\"dataframe\">\n",
       "  <thead>\n",
       "    <tr style=\"text-align: right;\">\n",
       "      <th></th>\n",
       "      <th>Predicted acc</th>\n",
       "      <th>Predicted good</th>\n",
       "      <th>Predicted unacc</th>\n",
       "      <th>Predicted vgood</th>\n",
       "    </tr>\n",
       "  </thead>\n",
       "  <tbody>\n",
       "    <tr>\n",
       "      <th>Actual acc</th>\n",
       "      <td>22</td>\n",
       "      <td>0</td>\n",
       "      <td>96</td>\n",
       "      <td>0</td>\n",
       "    </tr>\n",
       "    <tr>\n",
       "      <th>Actual good</th>\n",
       "      <td>2</td>\n",
       "      <td>0</td>\n",
       "      <td>17</td>\n",
       "      <td>0</td>\n",
       "    </tr>\n",
       "    <tr>\n",
       "      <th>Actual unacc</th>\n",
       "      <td>34</td>\n",
       "      <td>0</td>\n",
       "      <td>324</td>\n",
       "      <td>0</td>\n",
       "    </tr>\n",
       "    <tr>\n",
       "      <th>Actual vgood</th>\n",
       "      <td>14</td>\n",
       "      <td>0</td>\n",
       "      <td>10</td>\n",
       "      <td>0</td>\n",
       "    </tr>\n",
       "  </tbody>\n",
       "</table>\n",
       "</div>"
      ],
      "text/plain": [
       "              Predicted acc  Predicted good  Predicted unacc  Predicted vgood\n",
       "Actual acc               22               0               96                0\n",
       "Actual good               2               0               17                0\n",
       "Actual unacc             34               0              324                0\n",
       "Actual vgood             14               0               10                0"
      ]
     },
     "execution_count": 201,
     "metadata": {},
     "output_type": "execute_result"
    }
   ],
   "source": [
    "print 'Accuracy: {0}'.format(accuracy_score(y_true=y_test, y_pred=y_pred))\n",
    "print '\\n'\n",
    "print 'Confusion Matrix'\n",
    "\n",
    "c_m = confusion_matrix(y_true=y_test, y_pred=y_pred)\n",
    "conf_matrix = pd.DataFrame(c_m, \n",
    "                           columns=[ 'Predicted acc', 'Predicted good', 'Predicted unacc', 'Predicted vgood'],\n",
    "                           index=['Actual acc', 'Actual good', 'Actual unacc', 'Actual vgood'])\n",
    "conf_matrix"
   ]
  },
  {
   "cell_type": "markdown",
   "metadata": {},
   "source": [
    "Decision Tree is performing best here. The accuracy we are getting here with decision tree is ~0.96 and average f-score is also 0.96, highest among all models.\n",
    "Here I'm treating variable: Number of doors and number of passengers as nominal data as we don't have actual value of both these variables are more than 4. Therefore, I'm using both these variable as nominal."
   ]
  }
 ],
 "metadata": {
  "kernelspec": {
   "display_name": "Python 2",
   "language": "python",
   "name": "python2"
  },
  "language_info": {
   "codemirror_mode": {
    "name": "ipython",
    "version": 2
   },
   "file_extension": ".py",
   "mimetype": "text/x-python",
   "name": "python",
   "nbconvert_exporter": "python",
   "pygments_lexer": "ipython2",
   "version": "2.7.12"
  }
 },
 "nbformat": 4,
 "nbformat_minor": 2
}
