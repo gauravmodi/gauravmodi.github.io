{
 "cells": [
  {
   "cell_type": "markdown",
   "metadata": {
    "colab": {
     "autoexec": {
      "startup": false,
      "wait_interval": 0
     }
    },
    "colab_type": "code",
    "id": "CPIJFc72skVo"
   },
   "source": [
    "+ Title: One-Word-In, One-Word-Out Sequences\n",
    "+ Author: Gaurav Modi\n",
    "+ Date: 2018-05-10\n",
    "+ Description: \"One-Word-In, One-Word-Out Sequences\"\n",
    "+ Slug: one-word-in-one-word-out-sequences\n",
    "+ Tags: nlp, word_prediction, python, keras"
   ]
  },
  {
   "cell_type": "markdown",
   "metadata": {
    "colab_type": "text",
    "id": "zrjGgu8HOhEM"
   },
   "source": [
    "## One-Word-In, One-Word-Out Sequences"
   ]
  },
  {
   "cell_type": "code",
   "execution_count": 0,
   "metadata": {
    "colab": {
     "autoexec": {
      "startup": false,
      "wait_interval": 0
     }
    },
    "colab_type": "code",
    "collapsed": true,
    "id": "w4-CLXttNXcJ"
   },
   "outputs": [],
   "source": [
    "import numpy as np\n",
    "\n",
    "from keras.preprocessing.text import Tokenizer\n",
    "from keras.utils import to_categorical\n",
    "\n",
    "from keras.models import Sequential\n",
    "from keras.layers import Embedding, LSTM, Dense"
   ]
  },
  {
   "cell_type": "markdown",
   "metadata": {
    "colab_type": "text",
    "id": "Ez0NIrG_OohG"
   },
   "source": [
    "### Sample Text"
   ]
  },
  {
   "cell_type": "code",
   "execution_count": 0,
   "metadata": {
    "colab": {
     "autoexec": {
      "startup": false,
      "wait_interval": 0
     }
    },
    "colab_type": "code",
    "collapsed": true,
    "id": "iUbmkOo7xtqa"
   },
   "outputs": [],
   "source": [
    "# source text\n",
    "data = \"\"\" Jack and Jill went up the hill\\n\n",
    "        To fetch a pail of water\\n\n",
    "        Jack fell down and broke his crown\\n\n",
    "        And Jill came tumbling after\\n \"\"\""
   ]
  },
  {
   "cell_type": "markdown",
   "metadata": {
    "colab_type": "text",
    "id": "85GfeIY4OrzB"
   },
   "source": [
    "### Word to integar encoding"
   ]
  },
  {
   "cell_type": "code",
   "execution_count": 0,
   "metadata": {
    "colab": {
     "autoexec": {
      "startup": false,
      "wait_interval": 0
     }
    },
    "colab_type": "code",
    "collapsed": true,
    "id": "b8TBuTot3imc"
   },
   "outputs": [],
   "source": [
    "# Create a Tokenizer from provided text\n",
    "tokenizer = Tokenizer()\n",
    "tokenizer.fit_on_texts([data])\n",
    "encoded = tokenizer.texts_to_sequences([data])[0]"
   ]
  },
  {
   "cell_type": "markdown",
   "metadata": {
    "colab_type": "text",
    "id": "V_c-njCcO0O0"
   },
   "source": [
    "### Vocabulary size of text"
   ]
  },
  {
   "cell_type": "code",
   "execution_count": 0,
   "metadata": {
    "colab": {
     "autoexec": {
      "startup": false,
      "wait_interval": 0
     }
    },
    "colab_type": "code",
    "collapsed": true,
    "id": "MxB5O0Wo8Mj3"
   },
   "outputs": [],
   "source": [
    "# Vocabulary size so to pass when adding Embedding layers\n",
    "vocab_size = len(tokenizer.word_index) + 1"
   ]
  },
  {
   "cell_type": "markdown",
   "metadata": {
    "colab_type": "text",
    "id": "xpnIU2NJO_G8"
   },
   "source": [
    "### Create X, y for fitting model"
   ]
  },
  {
   "cell_type": "code",
   "execution_count": 0,
   "metadata": {
    "colab": {
     "autoexec": {
      "startup": false,
      "wait_interval": 0
     }
    },
    "colab_type": "code",
    "collapsed": true,
    "id": "nPQeltDo5RFf"
   },
   "outputs": [],
   "source": [
    "sequences = list()\n",
    "\n",
    "for i in range(1, len(encoded)):\n",
    "    sequence = (encoded[i-1], encoded[i])\n",
    "    sequences.append(sequence) \n",
    "    \n",
    "sequences = np.array(sequences)\n",
    "\n",
    "X, y = sequences[:,0], sequences[:, 1]"
   ]
  },
  {
   "cell_type": "markdown",
   "metadata": {
    "colab_type": "text",
    "id": "Aal-ZfycPNaK"
   },
   "source": [
    "### One-hot encoding of 'y'"
   ]
  },
  {
   "cell_type": "code",
   "execution_count": 0,
   "metadata": {
    "colab": {
     "autoexec": {
      "startup": false,
      "wait_interval": 0
     }
    },
    "colab_type": "code",
    "collapsed": true,
    "id": "xj8DX_rf7JtN"
   },
   "outputs": [],
   "source": [
    "y = to_categorical(y, num_classes=vocab_size)"
   ]
  },
  {
   "cell_type": "markdown",
   "metadata": {
    "colab_type": "text",
    "id": "eqlJe3EIPUM6"
   },
   "source": [
    "### Model Defination"
   ]
  },
  {
   "cell_type": "code",
   "execution_count": 76,
   "metadata": {
    "colab": {
     "autoexec": {
      "startup": false,
      "wait_interval": 0
     },
     "base_uri": "https://localhost:8080/",
     "height": 251
    },
    "colab_type": "code",
    "executionInfo": {
     "elapsed": 659,
     "status": "ok",
     "timestamp": 1527565399512,
     "user": {
      "displayName": "Gaurav Modi",
      "photoUrl": "//lh6.googleusercontent.com/-3oJDWhTfBiM/AAAAAAAAAAI/AAAAAAAAACk/3QqJRYQTYsA/s50-c-k-no/photo.jpg",
      "userId": "104261121391640075616"
     },
     "user_tz": 300
    },
    "id": "qxzlwlyc8f9j",
    "outputId": "ff071207-6e84-4387-845d-4a408f68257b"
   },
   "outputs": [
    {
     "name": "stdout",
     "output_type": "stream",
     "text": [
      "_________________________________________________________________\n",
      "Layer (type)                 Output Shape              Param #   \n",
      "=================================================================\n",
      "embedding_2 (Embedding)      (None, 1, 10)             220       \n",
      "_________________________________________________________________\n",
      "lstm_2 (LSTM)                (None, 50)                12200     \n",
      "_________________________________________________________________\n",
      "dense_2 (Dense)              (None, 22)                1122      \n",
      "=================================================================\n",
      "Total params: 13,542\n",
      "Trainable params: 13,542\n",
      "Non-trainable params: 0\n",
      "_________________________________________________________________\n",
      "None\n"
     ]
    }
   ],
   "source": [
    "model = Sequential()\n",
    "model.add(Embedding(vocab_size, 10, input_length=1))\n",
    "model.add(LSTM(50))\n",
    "model.add(Dense(vocab_size, activation='softmax'))\n",
    "print(model.summary())"
   ]
  },
  {
   "cell_type": "markdown",
   "metadata": {
    "colab_type": "text",
    "id": "6UUYNFRgPgzk"
   },
   "source": [
    "### Compiling and fitting model"
   ]
  },
  {
   "cell_type": "code",
   "execution_count": 83,
   "metadata": {
    "colab": {
     "autoexec": {
      "startup": false,
      "wait_interval": 0
     },
     "base_uri": "https://localhost:8080/",
     "height": 351
    },
    "colab_type": "code",
    "executionInfo": {
     "elapsed": 2494,
     "status": "ok",
     "timestamp": 1527565936971,
     "user": {
      "displayName": "Gaurav Modi",
      "photoUrl": "//lh6.googleusercontent.com/-3oJDWhTfBiM/AAAAAAAAAAI/AAAAAAAAACk/3QqJRYQTYsA/s50-c-k-no/photo.jpg",
      "userId": "104261121391640075616"
     },
     "user_tz": 300
    },
    "id": "oKLqa9AV8gKg",
    "outputId": "19487f94-86c5-4283-c48e-8c8fafadeac8"
   },
   "outputs": [
    {
     "name": "stdout",
     "output_type": "stream",
     "text": [
      "Epoch 1/10\n",
      "24/24 [==============================] - 1s 35ms/step - loss: 0.1951 - acc: 0.8750\n",
      "Epoch 2/10\n",
      "24/24 [==============================] - 0s 594us/step - loss: 0.1952 - acc: 0.8750\n",
      "Epoch 3/10\n",
      "24/24 [==============================] - 0s 431us/step - loss: 0.1951 - acc: 0.8750\n",
      "Epoch 4/10\n",
      "24/24 [==============================] - 0s 501us/step - loss: 0.1952 - acc: 0.8750\n",
      "Epoch 5/10\n",
      "24/24 [==============================] - 0s 488us/step - loss: 0.1952 - acc: 0.8750\n",
      "Epoch 6/10\n",
      "24/24 [==============================] - 0s 461us/step - loss: 0.1951 - acc: 0.8750\n",
      "Epoch 7/10\n",
      "24/24 [==============================] - 0s 439us/step - loss: 0.1951 - acc: 0.8750\n",
      "Epoch 8/10\n",
      "24/24 [==============================] - 0s 461us/step - loss: 0.1951 - acc: 0.8750\n",
      "Epoch 9/10\n",
      "24/24 [==============================] - 0s 441us/step - loss: 0.1951 - acc: 0.8750\n",
      "Epoch 10/10\n",
      "24/24 [==============================] - 0s 488us/step - loss: 0.1951 - acc: 0.8750\n"
     ]
    }
   ],
   "source": [
    "model.compile(loss='categorical_crossentropy', \n",
    "              optimizer='adam', \n",
    "              metrics=['accuracy'])\n",
    "\n",
    "model.fit(X, y, epochs=10, verbose=1);"
   ]
  },
  {
   "cell_type": "markdown",
   "metadata": {
    "colab_type": "text",
    "id": "KqgagKgAPmO8"
   },
   "source": [
    "### Function to create index-word mapping from tokenizer"
   ]
  },
  {
   "cell_type": "code",
   "execution_count": 0,
   "metadata": {
    "colab": {
     "autoexec": {
      "startup": false,
      "wait_interval": 0
     }
    },
    "colab_type": "code",
    "collapsed": true,
    "id": "mDJSoFjrIqrK"
   },
   "outputs": [],
   "source": [
    "def index_word_mapping(tokenizer):\n",
    "    index_word = dict()\n",
    "    for word, index in tokenizer.word_index.items():\n",
    "        index_word[index] = word\n",
    "    return index_word"
   ]
  },
  {
   "cell_type": "markdown",
   "metadata": {
    "colab_type": "text",
    "id": "if7SQNWgPq9I"
   },
   "source": [
    "### Function to create sequence a word"
   ]
  },
  {
   "cell_type": "code",
   "execution_count": 0,
   "metadata": {
    "colab": {
     "autoexec": {
      "startup": false,
      "wait_interval": 0
     }
    },
    "colab_type": "code",
    "collapsed": true,
    "id": "08mbfWVQKXdd"
   },
   "outputs": [],
   "source": [
    "def generate_sequence(model, tokenizer, seed_text='Jack', n_words=10):\n",
    "    sequences = list()\n",
    "    sequences.append(seed_text)\n",
    "    \n",
    "    index_word_dict = index_word_mapping(tokenizer)\n",
    "    \n",
    "    X = seed_text.lower()\n",
    "    for i in range(n_words):\n",
    "        X_word_index = tokenizer.texts_to_sequences([X])[0]\n",
    "        next_word_index = model.predict_classes(X_word_index)\n",
    "        \n",
    "        next_word = index_word_dict[next_word_index[0]]\n",
    "        sequences.append(next_word)\n",
    "        X = next_word            \n",
    "                \n",
    "    return ' '.join(sequences)"
   ]
  },
  {
   "cell_type": "markdown",
   "metadata": {
    "colab_type": "text",
    "id": "vycGm2EhP57k"
   },
   "source": [
    "### Sequence Prediction"
   ]
  },
  {
   "cell_type": "code",
   "execution_count": 183,
   "metadata": {
    "colab": {
     "autoexec": {
      "startup": false,
      "wait_interval": 0
     },
     "base_uri": "https://localhost:8080/",
     "height": 33
    },
    "colab_type": "code",
    "executionInfo": {
     "elapsed": 262,
     "status": "ok",
     "timestamp": 1527569677538,
     "user": {
      "displayName": "Gaurav Modi",
      "photoUrl": "//lh6.googleusercontent.com/-3oJDWhTfBiM/AAAAAAAAAAI/AAAAAAAAACk/3QqJRYQTYsA/s50-c-k-no/photo.jpg",
      "userId": "104261121391640075616"
     },
     "user_tz": 300
    },
    "id": "peKt_qP4Ki2c",
    "outputId": "0f785fb8-41a4-419a-82ea-a655c01483e1"
   },
   "outputs": [
    {
     "data": {
      "text/plain": [
       "'Jack fell down and jill came tumbling after pail of water'"
      ]
     },
     "execution_count": 183,
     "metadata": {
      "tags": []
     },
     "output_type": "execute_result"
    }
   ],
   "source": [
    "generate_sequence(model, tokenizer, seed_text='Jack', n_words=10)"
   ]
  }
 ],
 "metadata": {
  "accelerator": "GPU",
  "colab": {
   "collapsed_sections": [],
   "default_view": {},
   "name": "Sentiment Analysis.ipynb",
   "provenance": [],
   "version": "0.3.2",
   "views": {}
  },
  "kernelspec": {
   "display_name": "Python 3",
   "language": "python",
   "name": "python3"
  },
  "language_info": {
   "codemirror_mode": {
    "name": "ipython",
    "version": 3
   },
   "file_extension": ".py",
   "mimetype": "text/x-python",
   "name": "python",
   "nbconvert_exporter": "python",
   "pygments_lexer": "ipython3",
   "version": "3.6.2"
  }
 },
 "nbformat": 4,
 "nbformat_minor": 1
}
