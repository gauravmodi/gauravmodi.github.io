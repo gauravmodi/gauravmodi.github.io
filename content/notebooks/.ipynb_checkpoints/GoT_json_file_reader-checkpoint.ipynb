{
 "cells": [
  {
   "cell_type": "markdown",
   "metadata": {},
   "source": [
    "+ Title: Reading JSON file in Python\n",
    "+ Author: Gaurav Modi\n",
    "+ Date: 2018-04-01\n",
    "+ Modified: 2018-04-01\n",
    "+ Description: \"Reading JSON file in Python\"\n",
    "+ Slug: read_json_in_python\n",
    "+ Tags: python, json, pandas, game_of_thrones, tidy"
   ]
  },
  {
   "cell_type": "markdown",
   "metadata": {},
   "source": [
    "### Importing Packages"
   ]
  },
  {
   "cell_type": "code",
   "execution_count": 1,
   "metadata": {},
   "outputs": [],
   "source": [
    "import json\n",
    "import pandas as pd"
   ]
  },
  {
   "cell_type": "markdown",
   "metadata": {},
   "source": [
    "### Data source"
   ]
  },
  {
   "cell_type": "markdown",
   "metadata": {},
   "source": [
    "https://github.com/gauravmodi/gauravmodi.github.io/tree/source/content/data"
   ]
  },
  {
   "cell_type": "markdown",
   "metadata": {},
   "source": [
    "### Data sample"
   ]
  },
  {
   "cell_type": "markdown",
   "metadata": {},
   "source": [
    "```\n",
    "{\n",
    "   \"episodes\":[\n",
    "      {\n",
    "         \"seasonNum\":1,\n",
    "         \"episodeNum\":1,\n",
    "         \"episodeTitle\":\"Winter Is Coming\",\n",
    "         \"episodeLink\":\"/title/tt1480055/\",\n",
    "         \"episodeAirDate\":\"2011-04-17\",\n",
    "         \"episodeDescription\":\"Jon Arryn, the Hand of the King, is dead. King Robert Baratheon plans to ask his oldest friend, Eddard Stark, to take Jon's place. Across the sea, Viserys Targaryen plans to wed his sister to a nomadic warlord in exchange for an army.\",\n",
    "         \"openingSequenceLocations\":[\n",
    "            \"King's Landing\",\n",
    "            \"Winterfell\",\n",
    "            \"The Wall\",\n",
    "            \"Pentos\"\n",
    "         ],\n",
    "         \"scenes\":[\n",
    "            {\n",
    "               \"sceneStart\":\"0:00:40\",\n",
    "               \"sceneEnd\":\"0:01:45\",\n",
    "               \"location\":\"The Wall\",\n",
    "               \"subLocation\":\"Castle Black\",\n",
    "               \"characters\":[\n",
    "                  {\"name\":\"Gared\"},\n",
    "                  {\"name\":\"Waymar Royce\"},\n",
    "                  {\"name\":\"Will\"}\n",
    "               ]\n",
    "            }\n",
    "         ]\n",
    "      }\n",
    "   ]\n",
    "}\n",
    "```"
   ]
  },
  {
   "cell_type": "markdown",
   "metadata": {},
   "source": [
    "### Reading data"
   ]
  },
  {
   "cell_type": "code",
   "execution_count": 2,
   "metadata": {},
   "outputs": [],
   "source": [
    "f = open('../data/episodes.json')\n",
    "data = json.load(f)\n",
    "f.close() #close the file to remove the original file from the memory."
   ]
  },
  {
   "cell_type": "markdown",
   "metadata": {},
   "source": [
    "### Parsing the JSON File into Tidy Format"
   ]
  },
  {
   "cell_type": "markdown",
   "metadata": {},
   "source": [
    "Tidy data sets have structure and working with them is easy; they’re easy to manipulate, model and visualize. Tidy data sets main concept is to arrange data in a way that each variable is a column and each observation (or case) is a row. <br>*Source: https://www.wikiwand.com/en/Tidy_data*"
   ]
  },
  {
   "cell_type": "code",
   "execution_count": 3,
   "metadata": {},
   "outputs": [],
   "source": [
    "data_list = list()\n",
    "\n",
    "for episode in data['episodes']:\n",
    "    seasonNum = episode['seasonNum']\n",
    "    episodeNum =  episode['episodeNum']  \n",
    "    for scene in episode['scenes']:\n",
    "        sceneStart = scene['sceneStart']\n",
    "        sceneEnd = scene['sceneEnd']\n",
    "        for character in scene['characters']:\n",
    "            characterName = character['name']\n",
    "            row = [seasonNum, episodeNum, characterName, sceneStart, sceneEnd]\n",
    "            data_list.append(row)"
   ]
  },
  {
   "cell_type": "markdown",
   "metadata": {},
   "source": [
    "### Saving parsed data into Pandas Dataframe"
   ]
  },
  {
   "cell_type": "code",
   "execution_count": 4,
   "metadata": {
    "scrolled": true
   },
   "outputs": [],
   "source": [
    "df = pd.DataFrame(columns=['season_num', 'episode_num', 'character_name', 'scene_start_time', 'scene_end_time'], \n",
    "                  data=data_list)"
   ]
  },
  {
   "cell_type": "markdown",
   "metadata": {},
   "source": [
    "### Final Table"
   ]
  },
  {
   "cell_type": "code",
   "execution_count": 5,
   "metadata": {},
   "outputs": [
    {
     "data": {
      "text/html": [
       "<div>\n",
       "<style scoped>\n",
       "    .dataframe tbody tr th:only-of-type {\n",
       "        vertical-align: middle;\n",
       "    }\n",
       "\n",
       "    .dataframe tbody tr th {\n",
       "        vertical-align: top;\n",
       "    }\n",
       "\n",
       "    .dataframe thead th {\n",
       "        text-align: right;\n",
       "    }\n",
       "</style>\n",
       "<table border=\"1\" class=\"dataframe\">\n",
       "  <thead>\n",
       "    <tr style=\"text-align: right;\">\n",
       "      <th></th>\n",
       "      <th>season_num</th>\n",
       "      <th>episode_num</th>\n",
       "      <th>character_name</th>\n",
       "      <th>scene_start_time</th>\n",
       "      <th>scene_end_time</th>\n",
       "    </tr>\n",
       "  </thead>\n",
       "  <tbody>\n",
       "    <tr>\n",
       "      <th>0</th>\n",
       "      <td>1</td>\n",
       "      <td>1</td>\n",
       "      <td>Gared</td>\n",
       "      <td>0:00:40</td>\n",
       "      <td>0:01:45</td>\n",
       "    </tr>\n",
       "    <tr>\n",
       "      <th>1</th>\n",
       "      <td>1</td>\n",
       "      <td>1</td>\n",
       "      <td>Waymar Royce</td>\n",
       "      <td>0:00:40</td>\n",
       "      <td>0:01:45</td>\n",
       "    </tr>\n",
       "    <tr>\n",
       "      <th>2</th>\n",
       "      <td>1</td>\n",
       "      <td>1</td>\n",
       "      <td>Will</td>\n",
       "      <td>0:00:40</td>\n",
       "      <td>0:01:45</td>\n",
       "    </tr>\n",
       "    <tr>\n",
       "      <th>3</th>\n",
       "      <td>1</td>\n",
       "      <td>1</td>\n",
       "      <td>Gared</td>\n",
       "      <td>0:01:45</td>\n",
       "      <td>0:03:24</td>\n",
       "    </tr>\n",
       "    <tr>\n",
       "      <th>4</th>\n",
       "      <td>1</td>\n",
       "      <td>1</td>\n",
       "      <td>Waymar Royce</td>\n",
       "      <td>0:01:45</td>\n",
       "      <td>0:03:24</td>\n",
       "    </tr>\n",
       "  </tbody>\n",
       "</table>\n",
       "</div>"
      ],
      "text/plain": [
       "   season_num  episode_num character_name scene_start_time scene_end_time\n",
       "0           1            1          Gared          0:00:40        0:01:45\n",
       "1           1            1   Waymar Royce          0:00:40        0:01:45\n",
       "2           1            1           Will          0:00:40        0:01:45\n",
       "3           1            1          Gared          0:01:45        0:03:24\n",
       "4           1            1   Waymar Royce          0:01:45        0:03:24"
      ]
     },
     "metadata": {},
     "output_type": "display_data"
    }
   ],
   "source": [
    "display(df.head())"
   ]
  }
 ],
 "metadata": {
  "kernelspec": {
   "display_name": "Python 2",
   "language": "python",
   "name": "python2"
  },
  "language_info": {
   "codemirror_mode": {
    "name": "ipython",
    "version": 2
   },
   "file_extension": ".py",
   "mimetype": "text/x-python",
   "name": "python",
   "nbconvert_exporter": "python",
   "pygments_lexer": "ipython2",
   "version": "2.7.12"
  }
 },
 "nbformat": 4,
 "nbformat_minor": 2
}
