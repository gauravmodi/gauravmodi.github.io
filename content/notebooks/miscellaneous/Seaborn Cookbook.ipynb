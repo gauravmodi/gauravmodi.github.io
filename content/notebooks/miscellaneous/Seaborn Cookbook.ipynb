{
 "cells": [
  {
   "cell_type": "markdown",
   "metadata": {},
   "source": [
    "+ Title: Seaborn Cookbook\n",
    "+ Author: Gaurav Modi\n",
    "+ Date: 2017-10-08\n",
    "+ Description: \"Seaborn Code\"\n",
    "+ Slug: seaborn-cookbook\n",
    "+ Tags: seaborn, matplotlib, visualization"
   ]
  },
  {
   "cell_type": "markdown",
   "metadata": {},
   "source": [
    "### Univariante Distributions Plots"
   ]
  },
  {
   "cell_type": "code",
   "execution_count": null,
   "metadata": {
    "collapsed": true
   },
   "outputs": [],
   "source": [
    "# Univariate distribution of observations with KDE\n",
    "sns.distplot(spend.amount, hist=False, color=\"g\", kde_kws={\"shade\": True})\n",
    "\n",
    "# jitter tp spread the data points instead of overlap\n",
    "sns.stripplot(x='cyl', y='hp', data=auto, size=3, jitter=True)\n",
    "\n",
    "# doesn't overlap the data points\n",
    "sns.swarmplot(x='hp', y='cyl', data=auto, hue='origin', orient='h')\n",
    "\n",
    "## Violin plot\n",
    "sns.violinplot(x='cyl', y='hp', data=auto)\n",
    "\n",
    "## Violin + strip plot inside it\n",
    "sns.violinplot(x='cyl', y='hp', data=auto, color='lightgray', inner=None)\n",
    "\n",
    "# Overlay a strip plot on the violin plot\n",
    "sns.stripplot(x='cyl', y='hp', data=auto, jitter=True, size=1.5)\n",
    "\n",
    "## Multivariate Plots\n",
    "sns.jointplot(x='hp', y='mpg', data=auto)\n",
    "\n",
    "# kind = 'scatter', 'reg', 'resid', 'kde', 'hex'\n",
    "sns.jointplot(x='hp', y='mpg', data=auto, kind='hex')\n"
   ]
  },
  {
   "cell_type": "markdown",
   "metadata": {},
   "source": [
    "### Box-plot"
   ]
  },
  {
   "cell_type": "code",
   "execution_count": null,
   "metadata": {
    "collapsed": true
   },
   "outputs": [],
   "source": [
    "## Box Plot\n",
    "fig, ax = plt.subplots(1, 1)\n",
    "boxplot = sns.boxplot(x=spend_counts_groupby_account.amount, orient='v')"
   ]
  },
  {
   "cell_type": "markdown",
   "metadata": {},
   "source": [
    "### Linear Regression Plots"
   ]
  },
  {
   "cell_type": "code",
   "execution_count": null,
   "metadata": {
    "collapsed": true
   },
   "outputs": [],
   "source": [
    "## Plot a linear regression between 'weight' and 'hp'\n",
    "# hue to group data, and palette to select color theme\n",
    "sns.lmplot(x='weight', y='hp', data=auto, hue='origin', palette='Set1')\n",
    "\n",
    "# Plot linear regressions grouped row-wise by 'origin' column of auto df\n",
    "sns.lmplot(x='weight', y='hp', data=auto, row='origin')\n",
    "\n",
    "#-------------------------------------------------------------------------------\n",
    "## Generate a green residual plot of the regression between 'hp' and 'mpg'\n",
    "sns.residplot(x='hp', y='mpg', data=auto, color='green')\n",
    "\n",
    "#-------------------------------------------------------------------------------\n",
    "## Plot in green a linear regression of order 2 between 'weight' and 'mpg'\n",
    "sns.regplot(x='weight', y='mpg', data=auto, color='green', scatter=None, order=2, label='order 2')"
   ]
  },
  {
   "cell_type": "markdown",
   "metadata": {},
   "source": [
    "### Pairwise plots"
   ]
  },
  {
   "cell_type": "code",
   "execution_count": null,
   "metadata": {
    "collapsed": true
   },
   "outputs": [],
   "source": [
    "# Pair plot of all numeric variables in dataframe\n",
    "sns.pairplot(auto)\n",
    "sns.pairplot(data=auto, hue='origin', kind='reg')\n",
    "\n",
    "\n",
    "\n",
    "color = sns.color_palette()\n",
    "sns.set_style('darkgrid')"
   ]
  },
  {
   "cell_type": "markdown",
   "metadata": {},
   "source": [
    "### Co-variance Matrix Plot (Heat Map)"
   ]
  },
  {
   "cell_type": "code",
   "execution_count": null,
   "metadata": {
    "collapsed": true
   },
   "outputs": [],
   "source": [
    "# Visualize the covariance matrix using a heatmap\n",
    "# Note: cov_matrix is covariance matrix\n",
    "corrmat = train.corr()\n",
    "plt.subplots(figsize=(12,9))\n",
    "sns.heatmap(corrmat, vmax=0.9, square=True)\n",
    "sns.heatmap(cov_matrix)"
   ]
  },
  {
   "cell_type": "markdown",
   "metadata": {},
   "source": [
    "### Horizontal Bar Plot with values of bar"
   ]
  },
  {
   "cell_type": "code",
   "execution_count": null,
   "metadata": {
    "collapsed": true
   },
   "outputs": [],
   "source": [
    "def horizontal_barplot(df_column, top_n=None, figsize=(20, 6), bar_color=None, \n",
    "                       suptitle='', suptitle_size=18, title='', title_size=18, \n",
    "                       xlabel='', ylabel='', xlabel_size=18, ylabel_size=18, \n",
    "                       xticks_size=14, yticks_size=14, \n",
    "                       text_offset=0, bar_text_size=20, bar_text_color='black' ):\n",
    "    \n",
    "    plt.figure(figsize=figsize)\n",
    "    count = df_column.value_counts()\n",
    "    top_count = count[:top_n]\n",
    "\n",
    "    sns.barplot(x=top_count.values, y=top_count.index, orient='h', palette=color)\n",
    "\n",
    "    plt.suptitle(suptitle, size=suptitle_size, fontweight='bold')\n",
    "    plt.title(title, size=title_size)\n",
    "    plt.xlabel(xlabel, size=xlabel_size); \n",
    "    plt.ylabel(ylabel, size=ylabel_size)\n",
    "    plt.xticks(size=xticks_size); plt.yticks(size=yticks_size)\n",
    "\n",
    "    for index, value in enumerate(top_count.values):\n",
    "        s = str('{:,}'.format(value))+ \" | \" + str(np.round(100*value/count.sum(), 2)) + ' %'\n",
    "        plt.text(text_offset, index, s, fontdict={'size': bar_text_size, \n",
    "                                                  'fontweight':'bold', \n",
    "                                                  'color':bar_text_color})"
   ]
  }
 ],
 "metadata": {
  "kernelspec": {
   "display_name": "Python 3",
   "language": "python",
   "name": "python3"
  },
  "language_info": {
   "codemirror_mode": {
    "name": "ipython",
    "version": 3
   },
   "file_extension": ".py",
   "mimetype": "text/x-python",
   "name": "python",
   "nbconvert_exporter": "python",
   "pygments_lexer": "ipython3",
   "version": "3.6.2"
  }
 },
 "nbformat": 4,
 "nbformat_minor": 2
}
