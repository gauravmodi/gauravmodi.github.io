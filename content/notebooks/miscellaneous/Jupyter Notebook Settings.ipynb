{
 "cells": [
  {
   "cell_type": "markdown",
   "metadata": {},
   "source": [
    "+ Title: Jupyter Notebook Settings\n",
    "+ Author: Gaurav Modi\n",
    "+ Date: 2017-10-23\n",
    "+ Description: \"Jupyter Notebook Settings\"\n",
    "+ Slug: jupyter-notebook-settings\n",
    "+ Tags: jupyter, ipython"
   ]
  },
  {
   "cell_type": "markdown",
   "metadata": {},
   "source": [
    "### Ipython Settings"
   ]
  },
  {
   "cell_type": "code",
   "execution_count": null,
   "metadata": {
    "collapsed": true
   },
   "outputs": [],
   "source": [
    "#-------------------------------------------------------------------------------\n",
    "# ipython settings\n",
    "%reload_ext autoreload\n",
    "%autoreload 2\n",
    "%matplotlib inline\n",
    "\n",
    "#-------------------------------------------------------------------------------\n",
    "## change from scientific notation to decimal point in pandas\n",
    "pd.set_option('display.float_format', lambda x: '%.0f' % x)\n",
    "\n",
    "## Font Setting\n",
    "plt.rcParams['font.sans-serif'] = ('Helvetica', 'Arial', 'Open Sans', 'Bitstream Vera Sans')\n",
    "\n",
    "#-------------------------------------------------------------------------------\n",
    "#Limiting floats output to 3 decimal points\n",
    "pd.set_option('display.float_format', lambda x: '{:.3f}'.format(x))\n",
    "\n",
    "#-------------------------------------------------------------------------------\n",
    "##Ignore warnings\n",
    "import warnings; warnings.filterwarnings('ignore')"
   ]
  },
  {
   "cell_type": "markdown",
   "metadata": {},
   "source": [
    "### Show Image in notebook"
   ]
  },
  {
   "cell_type": "code",
   "execution_count": null,
   "metadata": {
    "collapsed": true
   },
   "outputs": [],
   "source": [
    "<img src=\"./plots/green_taxi.jpg\" alt=\"Drawing\" style=\"width: 500px;\"/>"
   ]
  },
  {
   "cell_type": "markdown",
   "metadata": {},
   "source": [
    "### Show Video in notebook"
   ]
  },
  {
   "cell_type": "code",
   "execution_count": null,
   "metadata": {
    "collapsed": true
   },
   "outputs": [],
   "source": [
    "from IPython.display import HTML\n",
    "HTML(\"\"\"\n",
    "<video width=\"750\" height=\"675\" controls>\n",
    "  <source src=\"./video/nyc_trips.mp4\" type=\"video/mp4\">\n",
    "</video>\n",
    "\"\"\")"
   ]
  },
  {
   "cell_type": "markdown",
   "metadata": {},
   "source": [
    "### Display Progress bar"
   ]
  },
  {
   "cell_type": "code",
   "execution_count": null,
   "metadata": {
    "collapsed": true
   },
   "outputs": [],
   "source": [
    "from tqdm import tqdm_notebook\n",
    "from time import sleep\n",
    "\n",
    "for i in tqdm_notebook(range(100)):\n",
    "    sleep(0.01)"
   ]
  },
  {
   "cell_type": "markdown",
   "metadata": {},
   "source": [
    "### Run SQL queries in Pandas"
   ]
  },
  {
   "cell_type": "code",
   "execution_count": null,
   "metadata": {
    "collapsed": true
   },
   "outputs": [],
   "source": [
    "# import warnings; warnings.filterwarnings('ignore')\n",
    "from pysqldf import SQLDF; \n",
    "sqldf = SQLDF(globals()); q = getattr(sqldf, 'execute')\n"
   ]
  },
  {
   "cell_type": "markdown",
   "metadata": {},
   "source": [
    "### Styling tables in Notebook"
   ]
  },
  {
   "cell_type": "markdown",
   "metadata": {},
   "source": [
    "**Different color based on value in Column**"
   ]
  },
  {
   "cell_type": "code",
   "execution_count": null,
   "metadata": {
    "collapsed": true
   },
   "outputs": [],
   "source": [
    "def over_10M(value):\n",
    "    if value > 10**7:\n",
    "        color = 'green'\n",
    "    else:\n",
    "        color = 'blue'        \n",
    "    return 'color: %s' % color\n",
    "\n",
    "df.style.applymap(over_10M, subset=['AmountInUSD'])\\\n",
    "        .format({'AmountInUSD': \"$ {:}\"})"
   ]
  },
  {
   "cell_type": "markdown",
   "metadata": {},
   "source": [
    "**Color Gradient based on value in Column**"
   ]
  },
  {
   "cell_type": "code",
   "execution_count": null,
   "metadata": {
    "collapsed": true
   },
   "outputs": [],
   "source": [
    "cm_table = sns.light_palette(\"red\", as_cmap=True)\n",
    "\n",
    "null_count =  pd.DataFrame(data.isnull().sum(), columns=['Missing Value Count'])\n",
    "null_count.style.background_gradient(subset=['Missing Value Count'],\n",
    "                               cmap=cm_table)"
   ]
  },
  {
   "cell_type": "markdown",
   "metadata": {},
   "source": [
    "### Drag and Drop Visualization (like Tableau)"
   ]
  },
  {
   "cell_type": "code",
   "execution_count": null,
   "metadata": {
    "collapsed": true
   },
   "outputs": [],
   "source": [
    "# Tableau like drag and drop\n",
    "from pivottablejs import pivot_ui\n",
    "pivot_ui(df)\n",
    "\n",
    "temp_time = df[(df.lpep_pickup_datetime.dt.hour == hour_low) | (df.lpep_pickup_datetime.dt.hour <= hour) &\\\n",
    "            (df.lpep_pickup_datetime.dt.minute >= minute_low) & (df.lpep_pickup_datetime.dt.minute <= minute)]"
   ]
  }
 ],
 "metadata": {
  "kernelspec": {
   "display_name": "Python 3",
   "language": "python",
   "name": "python3"
  },
  "language_info": {
   "codemirror_mode": {
    "name": "ipython",
    "version": 3
   },
   "file_extension": ".py",
   "mimetype": "text/x-python",
   "name": "python",
   "nbconvert_exporter": "python",
   "pygments_lexer": "ipython3",
   "version": "3.6.2"
  }
 },
 "nbformat": 4,
 "nbformat_minor": 2
}
