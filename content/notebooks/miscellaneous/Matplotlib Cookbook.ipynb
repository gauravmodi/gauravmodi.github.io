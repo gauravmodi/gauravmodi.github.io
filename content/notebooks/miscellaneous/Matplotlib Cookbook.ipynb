{
 "cells": [
  {
   "cell_type": "markdown",
   "metadata": {},
   "source": [
    "+ Title: Matplotlib Cookbook\n",
    "+ Author: Gaurav Modi\n",
    "+ Date: 2017-08-13\n",
    "+ Description: \"Matplotlib Code\"\n",
    "+ Slug: matplotlib-cookbook\n",
    "+ Tags: matplotlib, visualization"
   ]
  },
  {
   "cell_type": "markdown",
   "metadata": {},
   "source": [
    "### Matplotlib Settings for Jupyter Notebook"
   ]
  },
  {
   "cell_type": "code",
   "execution_count": null,
   "metadata": {
    "collapsed": true
   },
   "outputs": [],
   "source": [
    "# Default setting for whole notebook\n",
    "import matplotlib as mpl\n",
    "mpl.rc('lines', linewidth=2, color='r', markersize=10)\n",
    "mpl.rc('axes', titlesize=24, labelsize=20)\n",
    "mpl.rc('xtick', labelsize=16)\n",
    "mpl.rc('ytick', labelsize=16)\n",
    "\n",
    "font = {'family' : 'monospace',\n",
    "        'weight' : 'bold',\n",
    "        'size'   : 'larger'}\n",
    "mpl.rc('font', **font)  # pass in the font dict as kwargs\n",
    "\n",
    "## Plot Style\n",
    "# Set the style to 'ggplot'\n",
    "plt.style.use('ggplot')\n",
    "\n",
    "\n",
    "#-------------------------------------------------------------------------------\n",
    "## Add grid() call to show grid lines but depend on style also.\n",
    "plt.grid(True)\n",
    "\n",
    "#-------------------------------------------------------------------------------\n",
    "## Use plt.tight_layout() to improve the spacing between subplots\n",
    "plt.tight_layout()\n",
    "\n",
    "## All of thea rc settings are stored in a dictionary-like variable called\n",
    "## matplotlib.rcParams, which is global to the matplotlib package.\n",
    "plt.rcParams['figure.figsize'] = (5.0, 4.0) # set default size of plots\n",
    "\n",
    "## Color paletter\n",
    " ['#e6194b', '#3cb44b', '#ffe119', '#0082c8', '#f58231', \n",
    "  '#911eb4', '#46f0f0', '#f032e6', '#d2f53c', '#fabebe', \n",
    "  '#008080', '#e6beff', '#aa6e28', '#fffac8', '#800000', \n",
    "  '#aaffc3', '#808000', '#ffd8b1', '#000080', '#808080', \n",
    "  '#FFFFFF', '#000000']\n",
    "    \n",
    "#-------------------------------------------------------------------------------\n",
    "## Show and clean up again. NOT REQUIRED with Jupyter notebook\n",
    "plt.show()\n",
    "plt.clf()"
   ]
  },
  {
   "cell_type": "markdown",
   "metadata": {},
   "source": [
    "### Various Plots"
   ]
  },
  {
   "cell_type": "code",
   "execution_count": null,
   "metadata": {
    "collapsed": true
   },
   "outputs": [],
   "source": [
    "## Basic Line Plot\n",
    "plt.plot(x, y, color='b')\n",
    "\n",
    "#-------------------------------------------------------------------------------\n",
    "## Scatter Plot\n",
    "plt.scatter(x = x, y = y, s = size_array, c = col_array, alpha = 0.8)\n",
    "# Note: size and color array should be of same length or length = 1\n",
    "\n",
    "#-------------------------------------------------------------------------------\n",
    "## Histogram with 20 bins\n",
    "plt.hist(x, bins=20)\n",
    "\n",
    "#-------------------------------------------------------------------------------\n",
    "## if any axis values range is too large from 1 to billions then we can take\n",
    "## log of that axis values and scale it down.\n",
    "plt.xscale('log') # plt.yscale('log')"
   ]
  },
  {
   "cell_type": "markdown",
   "metadata": {},
   "source": [
    "### Histogram in Numpy"
   ]
  },
  {
   "cell_type": "code",
   "execution_count": null,
   "metadata": {
    "collapsed": true
   },
   "outputs": [],
   "source": [
    "# Annotate a text for maximum value\n",
    "# Creating a histogram table in numpy\n",
    "hist_series = np.histogram(df['column'].dropna(), bins=50)"
   ]
  },
  {
   "cell_type": "markdown",
   "metadata": {},
   "source": [
    "### Horizontal Bar Plots with Values on bar"
   ]
  },
  {
   "cell_type": "code",
   "execution_count": null,
   "metadata": {
    "collapsed": true
   },
   "outputs": [],
   "source": [
    "plt.figure(figsize=(20, 7))\n",
    "plt.subplot(1, 2,1)\n",
    "# plt.figure(figsize=(13, 8))\n",
    "count = df[~df['within_borough']]['pickup_borough'].value_counts()\n",
    "count = count[:4]\n",
    "sns.barplot(x=count.values, y=count.index, orient='h', palette=color[0:8])\n",
    "\n",
    "for index, value in enumerate(count.values):\n",
    "        s = str('{:,}'.format(value))+ \" | \" + str(np.round(100*value/count.sum(), 2)) + ' %'\n",
    "        plt.text(1000, index, s, fontdict={'size': 16, 'fontweight':'bold', 'color':'black'})"
   ]
  },
  {
   "cell_type": "markdown",
   "metadata": {},
   "source": [
    "### Overlap Plots"
   ]
  },
  {
   "cell_type": "code",
   "execution_count": null,
   "metadata": {
    "collapsed": true
   },
   "outputs": [],
   "source": [
    "#-------------------------------------------------------------------------------\n",
    "# Specify the label 'Computer Science'\n",
    "plt.plot(x1, y1, color='red', label='Label1')\n",
    "\n",
    "# Specify the label 'Physical Sciences'\n",
    "plt.plot(x2, y2, color='blue', label='Label2')\n",
    "\n",
    "# Add a legend at the lower center\n",
    "plt.legend(loc='lower center')"
   ]
  },
  {
   "cell_type": "markdown",
   "metadata": {},
   "source": [
    "### Plot Customization"
   ]
  },
  {
   "cell_type": "code",
   "execution_count": null,
   "metadata": {
    "collapsed": true
   },
   "outputs": [],
   "source": [
    "#===============================================================================\n",
    "#                               PLOT CUSTOMIZATION                             #\n",
    "#===============================================================================\n",
    "## Add Labels and title\n",
    "plt.suptitle('Super Title', size=18, fontweight='bold')\n",
    "plt.title('title', size=18)\n",
    "plt.xlabel('X-label')\n",
    "plt.ylabel('y-label')\n",
    "\n",
    "#-------------------------------------------------------------------------------\n",
    "# Set the axis range\n",
    "plt.xlim([1990, 2010])\n",
    "plt.ylim([0, 50])\n",
    "\n",
    "# Set the x-axis and y-axis limits AT ONCE\n",
    "plt.axis([1990, 2010, 0, 50])\n",
    "\n",
    "# Angle and size of xticks\n",
    "plt.xticks(size=14, rotation=45);\n",
    "plt.yticks(size=14, rotation=45);\n",
    "#-------------------------------------------------------------------------------\n",
    "## Definition of tick_val and tick_lab\n",
    "tick_val_x = [1000,10000,100000] # only show this values in axis\n",
    "tick_lab_x = ['1k','10k','100k'] # change above ticks to these values. As you can think length of array should be same.\n",
    "\n",
    "# Adapt the ticks on the x-axis\n",
    "plt.xticks(tick_val_x, tick_lab_x)\n",
    "plt.yticks(tick_val_y, tick_lab_y)\n"
   ]
  },
  {
   "cell_type": "markdown",
   "metadata": {},
   "source": [
    "## Annnotate Plots"
   ]
  },
  {
   "cell_type": "markdown",
   "metadata": {},
   "source": [
    "### Add text to plot"
   ]
  },
  {
   "cell_type": "code",
   "execution_count": null,
   "metadata": {
    "collapsed": true
   },
   "outputs": [],
   "source": [
    "#-------------------------------------------------------------------------------\n",
    "## Add text to plot\n",
    "plt.text(x_cordinate, y_cordinate, 'test-text')"
   ]
  },
  {
   "cell_type": "markdown",
   "metadata": {},
   "source": [
    "### Arrow and Text on Plot"
   ]
  },
  {
   "cell_type": "code",
   "execution_count": null,
   "metadata": {
    "collapsed": true
   },
   "outputs": [],
   "source": [
    "ax = sns.distplot(df['column'], bins=50, \n",
    "             kde_kws={'color':'r', \"label\": \"KDE\", \"lw\": 4}, \n",
    "             hist_kws={'color':color[7], 'alpha':1})\n",
    "\n",
    "ax.annotate('Annotate Text', \n",
    "            xy=(13.5, 0.102), xytext=(20, 0.09),\n",
    "            arrowprops=dict(facecolor='black', shrink=0.05), fontsize=18, color='red');"
   ]
  },
  {
   "cell_type": "markdown",
   "metadata": {},
   "source": [
    "### Add shapes in Plot"
   ]
  },
  {
   "cell_type": "code",
   "execution_count": null,
   "metadata": {
    "collapsed": true
   },
   "outputs": [],
   "source": [
    "rectangle = plt.Rectangle((4.2, 10), 2.3, 8.2, \n",
    "                          fill=None, edgecolor='red', \n",
    "                          linestyle='--', linewidth=3)\n",
    "\n",
    "plt.gca().add_patch(rectangle)"
   ]
  },
  {
   "cell_type": "markdown",
   "metadata": {},
   "source": [
    "### Drawing Subplots"
   ]
  },
  {
   "cell_type": "code",
   "execution_count": null,
   "metadata": {
    "collapsed": true
   },
   "outputs": [],
   "source": [
    "#-------------------------------------------------------------------------------\n",
    "## Multiple Subplots using subplot method\n",
    "# Create a figure with 1x2 subplot and make the left subplot active\n",
    "plt.subplot(1, 2, 1)\n",
    "# Plot in blue the % of degrees awarded to women in the Physical Sciences\n",
    "plt.plot(x1, y1, color='blue')\n",
    "plt.title('Plot 1')\n",
    "\n",
    "# Make the right subplot active in the current 1x2 subplot grid\n",
    "plt.subplot(1, 2, 2)\n",
    "\n",
    "# Plot in red the % of degrees awarded to women in Computer Science\n",
    "plt.plot(x2, y2, color='red')\n",
    "plt.title('Plot 2')"
   ]
  },
  {
   "cell_type": "markdown",
   "metadata": {},
   "source": [
    "### Subplot Settings"
   ]
  },
  {
   "cell_type": "code",
   "execution_count": null,
   "metadata": {
    "collapsed": true
   },
   "outputs": [],
   "source": [
    "#===============================================================================\n",
    "#\t\t\t\t\t\t\t\t SUBPLOTS                                      #\n",
    "#===============================================================================\n",
    "## Using Axes to show multiple plots at once\n",
    "plt.axes([0.05, 0.05, 0.425, 0.9])\n",
    "\n",
    "# Plot in blue the % of degrees awarded to women in the Physical Sciences\n",
    "plt.plot(year, physical_sciences, color='blue')\n",
    "\n",
    "# Create plot axes for the second line plot\n",
    "plt.axes([0.525, 0.05, 0.425, 0.9])\n",
    "\n",
    "# Plot in red the % of degrees awarded to women in Computer Science\n",
    "plt.plot(year, computer_science, color='red')\n"
   ]
  },
  {
   "cell_type": "markdown",
   "metadata": {},
   "source": [
    "### Saving plot on disk"
   ]
  },
  {
   "cell_type": "code",
   "execution_count": null,
   "metadata": {
    "collapsed": true
   },
   "outputs": [],
   "source": [
    "# Save the image as 'plot1.png'\n",
    "plt.savefig('plot1.png')"
   ]
  }
 ],
 "metadata": {
  "kernelspec": {
   "display_name": "Python 3",
   "language": "python",
   "name": "python3"
  },
  "language_info": {
   "codemirror_mode": {
    "name": "ipython",
    "version": 3
   },
   "file_extension": ".py",
   "mimetype": "text/x-python",
   "name": "python",
   "nbconvert_exporter": "python",
   "pygments_lexer": "ipython3",
   "version": "3.6.2"
  }
 },
 "nbformat": 4,
 "nbformat_minor": 2
}
